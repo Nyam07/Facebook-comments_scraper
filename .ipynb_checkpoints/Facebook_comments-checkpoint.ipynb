{
 "cells": [
  {
   "cell_type": "markdown",
   "id": "59b081a4",
   "metadata": {},
   "source": [
    "## Program to download facebook comments and save them to a csv file"
   ]
  },
  {
   "cell_type": "markdown",
   "id": "e50b1d51",
   "metadata": {},
   "source": [
    "### Imports"
   ]
  },
  {
   "cell_type": "code",
   "execution_count": 1,
   "id": "2c0eda9a",
   "metadata": {},
   "outputs": [],
   "source": [
    "from selenium import webdriver\n",
    "from webdriver_manager.chrome import ChromeDriverManager\n",
    "from bs4 import BeautifulSoup\n",
    "from selenium.webdriver.common.by import By\n",
    "import pandas as pd\n",
    "from selenium.common.exceptions import NoSuchElementException\n",
    "from selenium.common.exceptions import ElementClickInterceptedException\n",
    "from selenium.common.exceptions import StaleElementReferenceException\n",
    "import time\n",
    "from selenium.webdriver.common.keys import Keys\n",
    "from selenium.webdriver.support import expected_conditions as EC\n",
    "from selenium.webdriver.support.ui import WebDriverWait"
   ]
  },
  {
   "cell_type": "code",
   "execution_count": 2,
   "id": "7d920469",
   "metadata": {},
   "outputs": [
    {
     "name": "stderr",
     "output_type": "stream",
     "text": [
      "\n",
      "\n",
      "====== WebDriver manager ======\n",
      "Current google-chrome version is 98.0.4758\n",
      "Get LATEST chromedriver version for 98.0.4758 google-chrome\n",
      "Driver [C:\\Users\\NYAM\\.wdm\\drivers\\chromedriver\\win32\\98.0.4758.102\\chromedriver.exe] found in cache\n",
      "C:\\Users\\NYAM\\AppData\\Local\\Temp/ipykernel_3740/1314421596.py:2: DeprecationWarning: executable_path has been deprecated, please pass in a Service object\n",
      "  driver = webdriver.Chrome(ChromeDriverManager().install())\n"
     ]
    }
   ],
   "source": [
    "# install webdriver\n",
    "driver = webdriver.Chrome(ChromeDriverManager().install())"
   ]
  },
  {
   "cell_type": "markdown",
   "id": "2a4dedd4",
   "metadata": {},
   "source": [
    "### Methods to navigate and get the data"
   ]
  },
  {
   "cell_type": "code",
   "execution_count": 3,
   "id": "5c8cafdd",
   "metadata": {},
   "outputs": [],
   "source": [
    "# scroll down\n",
    "def scroll():\n",
    "    driver.find_element(By.TAG_NAME, 'body').send_keys(Keys.END)\n",
    "    time.sleep(3)\n",
    "    pop_out_btn = driver.find_element(By.ID, \"popup_xout\")\n",
    "    pop_out_btn.click()"
   ]
  },
  {
   "cell_type": "code",
   "execution_count": 4,
   "id": "3ffe8f38",
   "metadata": {},
   "outputs": [],
   "source": [
    "# funtion to click the view more button\n",
    "def view_more_click(driver):\n",
    "    try: \n",
    "        view_more_comments = WebDriverWait(driver, 10).until(EC.presence_of_element_located((By.LINK_TEXT, \"View more comments…\")))\n",
    "        view_more_comments.click()\n",
    "        \n",
    "    except (NoSuchElementException, ElementClickInterceptedException, StaleElementReferenceException) :\n",
    "        print(\"Problem found\")\n",
    "    html = driver.page_source\n",
    "    return html"
   ]
  },
  {
   "cell_type": "code",
   "execution_count": 5,
   "id": "6ba32121",
   "metadata": {},
   "outputs": [],
   "source": [
    "# clicks the view more button 10 times to get more comments\n",
    "def view_more_comments(driver, no_of_els):\n",
    "    new_els = 0\n",
    "    html = view_more_click(driver)\n",
    "    print(str(no_of_els) + \" \" + str(new_els))\n",
    "    html = view_more_click(driver)\n",
    "    elements = get_all_comment_els(driver, html)\n",
    "    new_els = len(elements)\n",
    "    print(str(no_of_els) + \" NN \" + str(new_els))\n",
    "    if new_els > no_of_els:\n",
    "        new_els = no_of_els\n",
    "        time.sleep(5)\n",
    "        html= view_more_comments(driver, new_els)\n",
    "        print(str(no_of_els) + \" SS \" + str(new_els))\n",
    "    else:\n",
    "        print(\"All elements collected\")\n",
    "    return html"
   ]
  },
  {
   "cell_type": "code",
   "execution_count": 6,
   "id": "8ac76fa0",
   "metadata": {},
   "outputs": [],
   "source": [
    "def view_more_comm(driver):\n",
    "    i = 0\n",
    "    while i < 20:\n",
    "        html = view_more_click(driver)\n",
    "        time.sleep(5)\n",
    "        i += 1\n",
    "    return html"
   ]
  },
  {
   "cell_type": "code",
   "execution_count": 7,
   "id": "e4c4fe90",
   "metadata": {},
   "outputs": [],
   "source": [
    "# function to get a list of all the comment elements\n",
    "def get_all_comment_els(html):\n",
    "    soup = BeautifulSoup(html, 'html.parser')\n",
    "    comment_els = soup.find_all(\"div\", {\"class\":\"_2a_i\"})\n",
    "    return comment_els"
   ]
  },
  {
   "cell_type": "code",
   "execution_count": 8,
   "id": "c2fb28c7",
   "metadata": {},
   "outputs": [],
   "source": [
    "# function to get the comments\n",
    "def get_comments(html):\n",
    "    comment_els = get_all_comment_els(html)\n",
    "    master_list = []\n",
    "    \n",
    "    for c in comment_els:\n",
    "        data_dict = {}\n",
    "        data_dict[\"Username\"] = c.find(\"div\", {\"class\":\"_2b05\"}).text\n",
    "        data_dict[\"comment\"] = c.find(\"div\", {\"data-sigil\":\"comment-body\"}).text\n",
    "        master_list.append(data_dict)\n",
    "    return master_list"
   ]
  },
  {
   "cell_type": "code",
   "execution_count": 9,
   "id": "7cceb834",
   "metadata": {},
   "outputs": [],
   "source": [
    "# create a dataframe for the data\n",
    "def get_dataframe(list):\n",
    "    df = pd.DataFrame(list)\n",
    "    return df"
   ]
  },
  {
   "cell_type": "code",
   "execution_count": 10,
   "id": "1251ed34",
   "metadata": {},
   "outputs": [],
   "source": [
    "# save the data in a csv file\n",
    "def save_data(filename, df):\n",
    "    df.to_csv(filename + \".csv\", index = False)\n",
    "    print(\"Successfully Saved\")"
   ]
  },
  {
   "cell_type": "code",
   "execution_count": null,
   "id": "0d749acc",
   "metadata": {
    "scrolled": false
   },
   "outputs": [],
   "source": [
    "if __name__ == \"__main__\":\n",
    "    url = input(\"Paste the Facebook mobile url: \")\n",
    "    driver.get(url)\n",
    "    scroll()\n",
    "    html = view_more_comm(driver)\n",
    "    print(\"Getting comments please wait...\\n\")\n",
    "    \n",
    "    master_list = get_comments(html)\n",
    "    print(str(len(master_list)) + \" Comments found\")\n",
    "    df = get_dataframe(master_list)\n",
    "\n",
    "    filename = input(\"Enter the filename for the data: \")\n",
    "    save_data(filename, df)"
   ]
  },
  {
   "cell_type": "code",
   "execution_count": null,
   "id": "e5fbfd89",
   "metadata": {},
   "outputs": [],
   "source": []
  },
  {
   "cell_type": "code",
   "execution_count": null,
   "id": "66515b8f",
   "metadata": {},
   "outputs": [],
   "source": []
  },
  {
   "cell_type": "code",
   "execution_count": null,
   "id": "9715dd3f",
   "metadata": {},
   "outputs": [],
   "source": []
  },
  {
   "cell_type": "code",
   "execution_count": 85,
   "id": "63366543",
   "metadata": {},
   "outputs": [],
   "source": []
  },
  {
   "cell_type": "code",
   "execution_count": null,
   "id": "9f552fdc",
   "metadata": {},
   "outputs": [],
   "source": []
  },
  {
   "cell_type": "code",
   "execution_count": null,
   "id": "641b9f32",
   "metadata": {},
   "outputs": [],
   "source": []
  }
 ],
 "metadata": {
  "kernelspec": {
   "display_name": "Python 3 (ipykernel)",
   "language": "python",
   "name": "python3"
  },
  "language_info": {
   "codemirror_mode": {
    "name": "ipython",
    "version": 3
   },
   "file_extension": ".py",
   "mimetype": "text/x-python",
   "name": "python",
   "nbconvert_exporter": "python",
   "pygments_lexer": "ipython3",
   "version": "3.9.5"
  }
 },
 "nbformat": 4,
 "nbformat_minor": 5
}
